{
 "cells": [
  {
   "cell_type": "markdown",
   "metadata": {},
   "source": [
    "I want to know if characteristic colors are different as genre\n",
    "\n",
    "after clustering color pixels in titles, double cluster main colors in genres"
   ]
  },
  {
   "cell_type": "code",
   "execution_count": null,
   "metadata": {},
   "outputs": [],
   "source": [
    "import pandas as pd\n",
    "import collections \n",
    "import numpy as np\n",
    "import cv2\n",
    "from bs4 import BeautifulSoup\n",
    "from matplotlib import pyplot as plt\n",
    "\n",
    "from urllib.request import urlopen \n",
    "import requests\n",
    "\n",
    "from sklearn.cluster import KMeans\n",
    "\n",
    "import os \n",
    "\n",
    "from termcolor import colored \n",
    "\n",
    "color_cluno=3\n",
    "\n",
    "#https://www.kaggle.com/shivamb/ideas-for-image-features-and-image-quality"
   ]
  },
  {
   "cell_type": "markdown",
   "metadata": {},
   "source": [
    "# scrapy from web\n",
    "\n",
    "save metadata & thumbnail from web"
   ]
  },
  {
   "cell_type": "code",
   "execution_count": 2,
   "metadata": {},
   "outputs": [],
   "source": [
    "pre=\"https://comic.naver.com\"\n",
    "url=pre+\"/webtoon/weekday.nhn\"\n",
    "\n",
    "# scrapy from url (webtoon title list)\n",
    "html = urlopen(url)\n",
    "bs_object = BeautifulSoup(html, \"html.parser\")\n"
   ]
  },
  {
   "cell_type": "code",
   "execution_count": 4,
   "metadata": {},
   "outputs": [],
   "source": [
    "tags = bs_object.find_all('div', attrs={'class': 'thumb'})\n",
    "\n",
    "imglst=[]\n",
    "titlelst=[]\n",
    "urllst=[]\n",
    "genrelst=[]\n",
    "for i in tags:\n",
    "    # from title list\n",
    "    title_img=i.find(\"img\")[\"src\"]\n",
    "    title_name=i.find(\"img\")[\"title\"]\n",
    "    title_url=i.find(\"a\")[\"href\"]\n",
    "    \n",
    "    imglst.append(title_img)\n",
    "    titlelst.append(title_name)\n",
    "    urllst.append(title_url)\n",
    "    \n",
    "    # title page for genre \n",
    "    html2 = urlopen(pre+title_url)\n",
    "    title_object=BeautifulSoup(html2, \"html.parser\")\n",
    "    title_object\n",
    "    \n",
    "    genre=title_object.find_all(\"span\", attrs={'class': 'genre'})[0].text\n",
    "    genrelst.append(genre)\n",
    "    \n",
    "    #save thumbnail\n",
    "    with urlopen(title_img) as rd:\n",
    "        with open('thumbnail/'+title_name+'.jpg','wb') as ot: \n",
    "            img = rd.read() \n",
    "            ot.write(img) \n"
   ]
  },
  {
   "cell_type": "code",
   "execution_count": 5,
   "metadata": {},
   "outputs": [
    {
     "data": {
      "text/html": [
       "<div>\n",
       "<style scoped>\n",
       "    .dataframe tbody tr th:only-of-type {\n",
       "        vertical-align: middle;\n",
       "    }\n",
       "\n",
       "    .dataframe tbody tr th {\n",
       "        vertical-align: top;\n",
       "    }\n",
       "\n",
       "    .dataframe thead th {\n",
       "        text-align: right;\n",
       "    }\n",
       "</style>\n",
       "<table border=\"1\" class=\"dataframe\">\n",
       "  <thead>\n",
       "    <tr style=\"text-align: right;\">\n",
       "      <th></th>\n",
       "      <th>imgsrc</th>\n",
       "      <th>titlename</th>\n",
       "      <th>href</th>\n",
       "      <th>genre</th>\n",
       "    </tr>\n",
       "  </thead>\n",
       "  <tbody>\n",
       "    <tr>\n",
       "      <td>0</td>\n",
       "      <td>https://shared-comic.pstatic.net/thumb/webtoon...</td>\n",
       "      <td>신의 탑</td>\n",
       "      <td>/webtoon/list.nhn?titleId=758145&amp;weekday=sun</td>\n",
       "      <td>스토리, 판타지</td>\n",
       "    </tr>\n",
       "    <tr>\n",
       "      <td>1</td>\n",
       "      <td>https://shared-comic.pstatic.net/thumb/webtoon...</td>\n",
       "      <td>참교육</td>\n",
       "      <td>/webtoon/list.nhn?titleId=758145&amp;weekday=sun</td>\n",
       "      <td>스토리, 액션</td>\n",
       "    </tr>\n",
       "    <tr>\n",
       "      <td>2</td>\n",
       "      <td>https://shared-comic.pstatic.net/thumb/webtoon...</td>\n",
       "      <td>뷰티풀 군바리</td>\n",
       "      <td>/webtoon/list.nhn?titleId=758145&amp;weekday=sun</td>\n",
       "      <td>스토리, 드라마</td>\n",
       "    </tr>\n",
       "    <tr>\n",
       "      <td>3</td>\n",
       "      <td>https://shared-comic.pstatic.net/thumb/webtoon...</td>\n",
       "      <td>파이게임</td>\n",
       "      <td>/webtoon/list.nhn?titleId=758145&amp;weekday=sun</td>\n",
       "      <td>스토리, 스릴러</td>\n",
       "    </tr>\n",
       "    <tr>\n",
       "      <td>4</td>\n",
       "      <td>https://shared-comic.pstatic.net/thumb/webtoon...</td>\n",
       "      <td>윈드브레이커</td>\n",
       "      <td>/webtoon/list.nhn?titleId=758145&amp;weekday=sun</td>\n",
       "      <td>스토리, 스포츠</td>\n",
       "    </tr>\n",
       "  </tbody>\n",
       "</table>\n",
       "</div>"
      ],
      "text/plain": [
       "                                              imgsrc titlename  \\\n",
       "0  https://shared-comic.pstatic.net/thumb/webtoon...      신의 탑   \n",
       "1  https://shared-comic.pstatic.net/thumb/webtoon...       참교육   \n",
       "2  https://shared-comic.pstatic.net/thumb/webtoon...   뷰티풀 군바리   \n",
       "3  https://shared-comic.pstatic.net/thumb/webtoon...      파이게임   \n",
       "4  https://shared-comic.pstatic.net/thumb/webtoon...    윈드브레이커   \n",
       "\n",
       "                                           href     genre  \n",
       "0  /webtoon/list.nhn?titleId=758145&weekday=sun  스토리, 판타지  \n",
       "1  /webtoon/list.nhn?titleId=758145&weekday=sun   스토리, 액션  \n",
       "2  /webtoon/list.nhn?titleId=758145&weekday=sun  스토리, 드라마  \n",
       "3  /webtoon/list.nhn?titleId=758145&weekday=sun  스토리, 스릴러  \n",
       "4  /webtoon/list.nhn?titleId=758145&weekday=sun  스토리, 스포츠  "
      ]
     },
     "execution_count": 5,
     "metadata": {},
     "output_type": "execute_result"
    }
   ],
   "source": [
    "urldf=pd.DataFrame(data={\"imgsrc\":imglst,\n",
    "                   \"titlename\":titlelst,\n",
    "                   \"href\":title_url,\n",
    "                   \"genre\":genrelst})\n",
    "\n",
    "urldf=urldf.drop_duplicates(\"titlename\")\n",
    "urldf.head()"
   ]
  },
  {
   "cell_type": "code",
   "execution_count": 6,
   "metadata": {},
   "outputs": [],
   "source": [
    "genredf=urldf[\"genre\"].str.split(\",\",expand=True)\n",
    "\n",
    "urldf[\"genre1\"]=genredf[0]\n",
    "urldf[\"genre2\"]=genredf[1]"
   ]
  },
  {
   "cell_type": "code",
   "execution_count": 7,
   "metadata": {},
   "outputs": [
    {
     "data": {
      "text/plain": [
       "스토리     356\n",
       "에피소드     34\n",
       "옴니버스     17\n",
       "Name: genre1, dtype: int64"
      ]
     },
     "execution_count": 7,
     "metadata": {},
     "output_type": "execute_result"
    }
   ],
   "source": [
    "urldf[\"genre1\"].value_counts()"
   ]
  },
  {
   "cell_type": "code",
   "execution_count": 8,
   "metadata": {},
   "outputs": [
    {
     "data": {
      "text/plain": [
       " 로맨스    103\n",
       " 판타지     92\n",
       " 드라마     91\n",
       " 스릴러     44\n",
       " 액션      40\n",
       " 개그      12\n",
       " 일상       9\n",
       " 스포츠      8\n",
       " 시대극      5\n",
       " 감성       3\n",
       "Name: genre2, dtype: int64"
      ]
     },
     "execution_count": 8,
     "metadata": {},
     "output_type": "execute_result"
    }
   ],
   "source": [
    "urldf[\"genre2\"].value_counts()"
   ]
  },
  {
   "cell_type": "code",
   "execution_count": 12,
   "metadata": {},
   "outputs": [],
   "source": [
    "urldf.to_csv(\"imgdf.csv\",index=False)"
   ]
  },
  {
   "cell_type": "code",
   "execution_count": 13,
   "metadata": {},
   "outputs": [],
   "source": [
    "urldf=pd.read_csv(\"imgdf.csv\", encoding=\"utf-8\")"
   ]
  },
  {
   "cell_type": "markdown",
   "metadata": {},
   "source": [
    "# image load\n",
    "\n",
    "image load after thumbnail scraping"
   ]
  },
  {
   "cell_type": "code",
   "execution_count": 14,
   "metadata": {
    "scrolled": true
   },
   "outputs": [],
   "source": [
    "img_dir = 'thumbnail/'\n",
    "imgs = os.listdir(img_dir) "
   ]
  },
  {
   "cell_type": "code",
   "execution_count": 15,
   "metadata": {},
   "outputs": [],
   "source": [
    "img_loaded_lst=[]\n",
    "for img_file in imgs:\n",
    "    load_img = cv2.imread(img_dir+img_file)\n",
    "    img_loaded_lst.append(load_img)"
   ]
  },
  {
   "cell_type": "code",
   "execution_count": 16,
   "metadata": {},
   "outputs": [
    {
     "data": {
      "image/png": "[encoded data removed]",
      "text/plain": [
       "<Figure size 432x288 with 1 Axes>"
      ]
     },
     "metadata": {
      "needs_background": "light"
     },
     "output_type": "display_data"
    }
   ],
   "source": [
    "plt.imshow(cv2.cvtColor(img_loaded_lst[0], cv2.COLOR_BGR2RGB))\n",
    "plt.show()"
   ]
  },
  {
   "cell_type": "code",
   "execution_count": 17,
   "metadata": {
    "scrolled": true
   },
   "outputs": [
    {
     "data": {
      "text/html": [
       "<div>\n",
       "<style scoped>\n",
       "    .dataframe tbody tr th:only-of-type {\n",
       "        vertical-align: middle;\n",
       "    }\n",
       "\n",
       "    .dataframe tbody tr th {\n",
       "        vertical-align: top;\n",
       "    }\n",
       "\n",
       "    .dataframe thead th {\n",
       "        text-align: right;\n",
       "    }\n",
       "</style>\n",
       "<table border=\"1\" class=\"dataframe\">\n",
       "  <thead>\n",
       "    <tr style=\"text-align: right;\">\n",
       "      <th></th>\n",
       "      <th>img_file</th>\n",
       "      <th>img_mat</th>\n",
       "    </tr>\n",
       "  </thead>\n",
       "  <tbody>\n",
       "    <tr>\n",
       "      <td>0</td>\n",
       "      <td>왕년엔 용사님</td>\n",
       "      <td>[[[75, 245, 255], [75, 245, 255], [75, 245, 25...</td>\n",
       "    </tr>\n",
       "    <tr>\n",
       "      <td>1</td>\n",
       "      <td>완벽한 가족</td>\n",
       "      <td>[[[229, 235, 240], [229, 235, 240], [229, 235,...</td>\n",
       "    </tr>\n",
       "    <tr>\n",
       "      <td>2</td>\n",
       "      <td>태권보이</td>\n",
       "      <td>[[[255, 255, 255], [255, 255, 255], [255, 255,...</td>\n",
       "    </tr>\n",
       "    <tr>\n",
       "      <td>3</td>\n",
       "      <td>랜덤채팅의 그녀!</td>\n",
       "      <td>[[[205, 205, 205], [205, 205, 205], [207, 205,...</td>\n",
       "    </tr>\n",
       "    <tr>\n",
       "      <td>4</td>\n",
       "      <td>외모지상주의</td>\n",
       "      <td>[[[255, 255, 255], [255, 255, 255], [254, 254,...</td>\n",
       "    </tr>\n",
       "  </tbody>\n",
       "</table>\n",
       "</div>"
      ],
      "text/plain": [
       "    img_file                                            img_mat\n",
       "0    왕년엔 용사님  [[[75, 245, 255], [75, 245, 255], [75, 245, 25...\n",
       "1     완벽한 가족  [[[229, 235, 240], [229, 235, 240], [229, 235,...\n",
       "2       태권보이  [[[255, 255, 255], [255, 255, 255], [255, 255,...\n",
       "3  랜덤채팅의 그녀!  [[[205, 205, 205], [205, 205, 205], [207, 205,...\n",
       "4     외모지상주의  [[[255, 255, 255], [255, 255, 255], [254, 254,..."
      ]
     },
     "execution_count": 17,
     "metadata": {},
     "output_type": "execute_result"
    }
   ],
   "source": [
    "imgfile_df=pd.DataFrame(data={\"img_file\":imgs, \"img_mat\":img_loaded_lst})\n",
    "\n",
    "imgfile_df[\"img_file\"]=imgfile_df[\"img_file\"].str.replace(\".jpg\",\"\")\n",
    "imgfile_df.head()"
   ]
  },
  {
   "cell_type": "code",
   "execution_count": 18,
   "metadata": {},
   "outputs": [
    {
     "data": {
      "text/html": [
       "<div>\n",
       "<style scoped>\n",
       "    .dataframe tbody tr th:only-of-type {\n",
       "        vertical-align: middle;\n",
       "    }\n",
       "\n",
       "    .dataframe tbody tr th {\n",
       "        vertical-align: top;\n",
       "    }\n",
       "\n",
       "    .dataframe thead th {\n",
       "        text-align: right;\n",
       "    }\n",
       "</style>\n",
       "<table border=\"1\" class=\"dataframe\">\n",
       "  <thead>\n",
       "    <tr style=\"text-align: right;\">\n",
       "      <th></th>\n",
       "      <th>img_file</th>\n",
       "      <th>img_mat</th>\n",
       "      <th>imgsrc</th>\n",
       "      <th>titlename</th>\n",
       "      <th>href</th>\n",
       "      <th>genre</th>\n",
       "      <th>genre1</th>\n",
       "      <th>genre2</th>\n",
       "    </tr>\n",
       "  </thead>\n",
       "  <tbody>\n",
       "    <tr>\n",
       "      <td>0</td>\n",
       "      <td>왕년엔 용사님</td>\n",
       "      <td>[[[75, 245, 255], [75, 245, 255], [75, 245, 25...</td>\n",
       "      <td>https://shared-comic.pstatic.net/thumb/webtoon...</td>\n",
       "      <td>왕년엔 용사님</td>\n",
       "      <td>/webtoon/list.nhn?titleId=758145&amp;weekday=sun</td>\n",
       "      <td>스토리, 판타지</td>\n",
       "      <td>스토리</td>\n",
       "      <td>판타지</td>\n",
       "    </tr>\n",
       "    <tr>\n",
       "      <td>1</td>\n",
       "      <td>완벽한 가족</td>\n",
       "      <td>[[[229, 235, 240], [229, 235, 240], [229, 235,...</td>\n",
       "      <td>https://shared-comic.pstatic.net/thumb/webtoon...</td>\n",
       "      <td>완벽한 가족</td>\n",
       "      <td>/webtoon/list.nhn?titleId=758145&amp;weekday=sun</td>\n",
       "      <td>스토리, 스릴러</td>\n",
       "      <td>스토리</td>\n",
       "      <td>스릴러</td>\n",
       "    </tr>\n",
       "    <tr>\n",
       "      <td>2</td>\n",
       "      <td>태권보이</td>\n",
       "      <td>[[[255, 255, 255], [255, 255, 255], [255, 255,...</td>\n",
       "      <td>https://shared-comic.pstatic.net/thumb/webtoon...</td>\n",
       "      <td>태권보이</td>\n",
       "      <td>/webtoon/list.nhn?titleId=758145&amp;weekday=sun</td>\n",
       "      <td>스토리, 스포츠</td>\n",
       "      <td>스토리</td>\n",
       "      <td>스포츠</td>\n",
       "    </tr>\n",
       "    <tr>\n",
       "      <td>3</td>\n",
       "      <td>랜덤채팅의 그녀!</td>\n",
       "      <td>[[[205, 205, 205], [205, 205, 205], [207, 205,...</td>\n",
       "      <td>https://shared-comic.pstatic.net/thumb/webtoon...</td>\n",
       "      <td>랜덤채팅의 그녀!</td>\n",
       "      <td>/webtoon/list.nhn?titleId=758145&amp;weekday=sun</td>\n",
       "      <td>스토리, 드라마</td>\n",
       "      <td>스토리</td>\n",
       "      <td>드라마</td>\n",
       "    </tr>\n",
       "    <tr>\n",
       "      <td>4</td>\n",
       "      <td>외모지상주의</td>\n",
       "      <td>[[[255, 255, 255], [255, 255, 255], [254, 254,...</td>\n",
       "      <td>https://shared-comic.pstatic.net/thumb/webtoon...</td>\n",
       "      <td>외모지상주의</td>\n",
       "      <td>/webtoon/list.nhn?titleId=758145&amp;weekday=sun</td>\n",
       "      <td>스토리, 드라마</td>\n",
       "      <td>스토리</td>\n",
       "      <td>드라마</td>\n",
       "    </tr>\n",
       "  </tbody>\n",
       "</table>\n",
       "</div>"
      ],
      "text/plain": [
       "    img_file                                            img_mat  \\\n",
       "0    왕년엔 용사님  [[[75, 245, 255], [75, 245, 255], [75, 245, 25...   \n",
       "1     완벽한 가족  [[[229, 235, 240], [229, 235, 240], [229, 235,...   \n",
       "2       태권보이  [[[255, 255, 255], [255, 255, 255], [255, 255,...   \n",
       "3  랜덤채팅의 그녀!  [[[205, 205, 205], [205, 205, 205], [207, 205,...   \n",
       "4     외모지상주의  [[[255, 255, 255], [255, 255, 255], [254, 254,...   \n",
       "\n",
       "                                              imgsrc  titlename  \\\n",
       "0  https://shared-comic.pstatic.net/thumb/webtoon...    왕년엔 용사님   \n",
       "1  https://shared-comic.pstatic.net/thumb/webtoon...     완벽한 가족   \n",
       "2  https://shared-comic.pstatic.net/thumb/webtoon...       태권보이   \n",
       "3  https://shared-comic.pstatic.net/thumb/webtoon...  랜덤채팅의 그녀!   \n",
       "4  https://shared-comic.pstatic.net/thumb/webtoon...     외모지상주의   \n",
       "\n",
       "                                           href     genre genre1 genre2  \n",
       "0  /webtoon/list.nhn?titleId=758145&weekday=sun  스토리, 판타지    스토리    판타지  \n",
       "1  /webtoon/list.nhn?titleId=758145&weekday=sun  스토리, 스릴러    스토리    스릴러  \n",
       "2  /webtoon/list.nhn?titleId=758145&weekday=sun  스토리, 스포츠    스토리    스포츠  \n",
       "3  /webtoon/list.nhn?titleId=758145&weekday=sun  스토리, 드라마    스토리    드라마  \n",
       "4  /webtoon/list.nhn?titleId=758145&weekday=sun  스토리, 드라마    스토리    드라마  "
      ]
     },
     "execution_count": 18,
     "metadata": {},
     "output_type": "execute_result"
    }
   ],
   "source": [
    "imgfile_df=imgfile_df.merge(urldf,left_on=\"img_file\",right_on=\"titlename\", how=\"left\")\n",
    "\n",
    "imgfile_df.head()"
   ]
  },
  {
   "cell_type": "markdown",
   "metadata": {},
   "source": [
    "# color ~ genre\n",
    "\n",
    "correlation with thumbnail color and genre.\n",
    "\n",
    "find thumbnail's main color by clustering"
   ]
  },
  {
   "cell_type": "code",
   "execution_count": 19,
   "metadata": {},
   "outputs": [],
   "source": [
    "def main_cluster(color_mat, color_cluno): \n",
    "    kmeans = KMeans(n_clusters = color_cluno)\n",
    "    kmeans.fit(color_mat)\n",
    "    return kmeans\n",
    "\n",
    "def color_cluster(img_mat, cluno):\n",
    "\n",
    "    maincolorlst=[]\n",
    "    for ind,mat in enumerate(img_mat):\n",
    "        # check data\n",
    "        if mat is None:\n",
    "            maincolorlst.append(\"\")\n",
    "            continue    \n",
    "        \n",
    "        # BRG->RGB\n",
    "        mat_rgb = cv2.cvtColor(mat, cv2.COLOR_BGR2RGB)\n",
    "\n",
    "        # reshape to list of pixels\n",
    "        matpixel=mat_rgb.reshape((mat_rgb.shape[0] * mat_rgb.shape[1], 3)) \n",
    "        \n",
    "        # k-means cluster pixels\n",
    "        kmeans=main_cluster(matpixel, color_cluno)\n",
    "\n",
    "        maincolorlst.append(kmeans.cluster_centers_.astype(int))\n",
    "\n",
    "    return maincolorlst\n",
    "    "
   ]
  },
  {
   "cell_type": "markdown",
   "metadata": {},
   "source": [
    "\n",
    "clustering pixels about each title "
   ]
  },
  {
   "cell_type": "code",
   "execution_count": 20,
   "metadata": {},
   "outputs": [
    {
     "data": {
      "text/html": [
       "<div>\n",
       "<style scoped>\n",
       "    .dataframe tbody tr th:only-of-type {\n",
       "        vertical-align: middle;\n",
       "    }\n",
       "\n",
       "    .dataframe tbody tr th {\n",
       "        vertical-align: top;\n",
       "    }\n",
       "\n",
       "    .dataframe thead th {\n",
       "        text-align: right;\n",
       "    }\n",
       "</style>\n",
       "<table border=\"1\" class=\"dataframe\">\n",
       "  <thead>\n",
       "    <tr style=\"text-align: right;\">\n",
       "      <th></th>\n",
       "      <th>img_file</th>\n",
       "      <th>img_mat</th>\n",
       "      <th>imgsrc</th>\n",
       "      <th>titlename</th>\n",
       "      <th>href</th>\n",
       "      <th>genre</th>\n",
       "      <th>genre1</th>\n",
       "      <th>genre2</th>\n",
       "      <th>main_color</th>\n",
       "    </tr>\n",
       "  </thead>\n",
       "  <tbody>\n",
       "    <tr>\n",
       "      <td>0</td>\n",
       "      <td>왕년엔 용사님</td>\n",
       "      <td>[[[75, 245, 255], [75, 245, 255], [75, 245, 25...</td>\n",
       "      <td>https://shared-comic.pstatic.net/thumb/webtoon...</td>\n",
       "      <td>왕년엔 용사님</td>\n",
       "      <td>/webtoon/list.nhn?titleId=758145&amp;weekday=sun</td>\n",
       "      <td>스토리, 판타지</td>\n",
       "      <td>스토리</td>\n",
       "      <td>판타지</td>\n",
       "      <td>[[142, 96, 69], [245, 221, 130], [33, 19, 32]]</td>\n",
       "    </tr>\n",
       "    <tr>\n",
       "      <td>1</td>\n",
       "      <td>완벽한 가족</td>\n",
       "      <td>[[[229, 235, 240], [229, 235, 240], [229, 235,...</td>\n",
       "      <td>https://shared-comic.pstatic.net/thumb/webtoon...</td>\n",
       "      <td>완벽한 가족</td>\n",
       "      <td>/webtoon/list.nhn?titleId=758145&amp;weekday=sun</td>\n",
       "      <td>스토리, 스릴러</td>\n",
       "      <td>스토리</td>\n",
       "      <td>스릴러</td>\n",
       "      <td>[[79, 69, 69], [240, 232, 225], [154, 138, 137]]</td>\n",
       "    </tr>\n",
       "    <tr>\n",
       "      <td>2</td>\n",
       "      <td>태권보이</td>\n",
       "      <td>[[[255, 255, 255], [255, 255, 255], [255, 255,...</td>\n",
       "      <td>https://shared-comic.pstatic.net/thumb/webtoon...</td>\n",
       "      <td>태권보이</td>\n",
       "      <td>/webtoon/list.nhn?titleId=758145&amp;weekday=sun</td>\n",
       "      <td>스토리, 스포츠</td>\n",
       "      <td>스토리</td>\n",
       "      <td>스포츠</td>\n",
       "      <td>[[242, 228, 200], [77, 29, 23], [144, 133, 134]]</td>\n",
       "    </tr>\n",
       "    <tr>\n",
       "      <td>3</td>\n",
       "      <td>랜덤채팅의 그녀!</td>\n",
       "      <td>[[[205, 205, 205], [205, 205, 205], [207, 205,...</td>\n",
       "      <td>https://shared-comic.pstatic.net/thumb/webtoon...</td>\n",
       "      <td>랜덤채팅의 그녀!</td>\n",
       "      <td>/webtoon/list.nhn?titleId=758145&amp;weekday=sun</td>\n",
       "      <td>스토리, 드라마</td>\n",
       "      <td>스토리</td>\n",
       "      <td>드라마</td>\n",
       "      <td>[[177, 139, 138], [216, 210, 209], [63, 67, 79]]</td>\n",
       "    </tr>\n",
       "    <tr>\n",
       "      <td>4</td>\n",
       "      <td>외모지상주의</td>\n",
       "      <td>[[[255, 255, 255], [255, 255, 255], [254, 254,...</td>\n",
       "      <td>https://shared-comic.pstatic.net/thumb/webtoon...</td>\n",
       "      <td>외모지상주의</td>\n",
       "      <td>/webtoon/list.nhn?titleId=758145&amp;weekday=sun</td>\n",
       "      <td>스토리, 드라마</td>\n",
       "      <td>스토리</td>\n",
       "      <td>드라마</td>\n",
       "      <td>[[249, 242, 234], [17, 17, 31], [181, 156, 152]]</td>\n",
       "    </tr>\n",
       "  </tbody>\n",
       "</table>\n",
       "</div>"
      ],
      "text/plain": [
       "    img_file                                            img_mat  \\\n",
       "0    왕년엔 용사님  [[[75, 245, 255], [75, 245, 255], [75, 245, 25...   \n",
       "1     완벽한 가족  [[[229, 235, 240], [229, 235, 240], [229, 235,...   \n",
       "2       태권보이  [[[255, 255, 255], [255, 255, 255], [255, 255,...   \n",
       "3  랜덤채팅의 그녀!  [[[205, 205, 205], [205, 205, 205], [207, 205,...   \n",
       "4     외모지상주의  [[[255, 255, 255], [255, 255, 255], [254, 254,...   \n",
       "\n",
       "                                              imgsrc  titlename  \\\n",
       "0  https://shared-comic.pstatic.net/thumb/webtoon...    왕년엔 용사님   \n",
       "1  https://shared-comic.pstatic.net/thumb/webtoon...     완벽한 가족   \n",
       "2  https://shared-comic.pstatic.net/thumb/webtoon...       태권보이   \n",
       "3  https://shared-comic.pstatic.net/thumb/webtoon...  랜덤채팅의 그녀!   \n",
       "4  https://shared-comic.pstatic.net/thumb/webtoon...     외모지상주의   \n",
       "\n",
       "                                           href     genre genre1 genre2  \\\n",
       "0  /webtoon/list.nhn?titleId=758145&weekday=sun  스토리, 판타지    스토리    판타지   \n",
       "1  /webtoon/list.nhn?titleId=758145&weekday=sun  스토리, 스릴러    스토리    스릴러   \n",
       "2  /webtoon/list.nhn?titleId=758145&weekday=sun  스토리, 스포츠    스토리    스포츠   \n",
       "3  /webtoon/list.nhn?titleId=758145&weekday=sun  스토리, 드라마    스토리    드라마   \n",
       "4  /webtoon/list.nhn?titleId=758145&weekday=sun  스토리, 드라마    스토리    드라마   \n",
       "\n",
       "                                         main_color  \n",
       "0    [[142, 96, 69], [245, 221, 130], [33, 19, 32]]  \n",
       "1  [[79, 69, 69], [240, 232, 225], [154, 138, 137]]  \n",
       "2  [[242, 228, 200], [77, 29, 23], [144, 133, 134]]  \n",
       "3  [[177, 139, 138], [216, 210, 209], [63, 67, 79]]  \n",
       "4  [[249, 242, 234], [17, 17, 31], [181, 156, 152]]  "
      ]
     },
     "execution_count": 20,
     "metadata": {},
     "output_type": "execute_result"
    }
   ],
   "source": [
    "imgfile_df[\"main_color\"]=color_cluster(imgfile_df[\"img_mat\"], color_cluno)\n",
    "imgfile_df.head()"
   ]
  },
  {
   "cell_type": "markdown",
   "metadata": {},
   "source": [
    "\n",
    "\n",
    "clustered color array to atomic matrix"
   ]
  },
  {
   "cell_type": "code",
   "execution_count": 21,
   "metadata": {},
   "outputs": [
    {
     "data": {
      "text/html": [
       "<div>\n",
       "<style scoped>\n",
       "    .dataframe tbody tr th:only-of-type {\n",
       "        vertical-align: middle;\n",
       "    }\n",
       "\n",
       "    .dataframe tbody tr th {\n",
       "        vertical-align: top;\n",
       "    }\n",
       "\n",
       "    .dataframe thead th {\n",
       "        text-align: right;\n",
       "    }\n",
       "</style>\n",
       "<table border=\"1\" class=\"dataframe\">\n",
       "  <thead>\n",
       "    <tr style=\"text-align: right;\">\n",
       "      <th></th>\n",
       "      <th>genre</th>\n",
       "      <th>main_color</th>\n",
       "    </tr>\n",
       "  </thead>\n",
       "  <tbody>\n",
       "    <tr>\n",
       "      <td>0</td>\n",
       "      <td>판타지</td>\n",
       "      <td>[142, 96, 69]</td>\n",
       "    </tr>\n",
       "    <tr>\n",
       "      <td>1</td>\n",
       "      <td>스릴러</td>\n",
       "      <td>[79, 69, 69]</td>\n",
       "    </tr>\n",
       "    <tr>\n",
       "      <td>2</td>\n",
       "      <td>스포츠</td>\n",
       "      <td>[242, 228, 200]</td>\n",
       "    </tr>\n",
       "    <tr>\n",
       "      <td>3</td>\n",
       "      <td>드라마</td>\n",
       "      <td>[177, 139, 138]</td>\n",
       "    </tr>\n",
       "    <tr>\n",
       "      <td>4</td>\n",
       "      <td>드라마</td>\n",
       "      <td>[249, 242, 234]</td>\n",
       "    </tr>\n",
       "  </tbody>\n",
       "</table>\n",
       "</div>"
      ],
      "text/plain": [
       "  genre       main_color\n",
       "0   판타지    [142, 96, 69]\n",
       "1   스릴러     [79, 69, 69]\n",
       "2   스포츠  [242, 228, 200]\n",
       "3   드라마  [177, 139, 138]\n",
       "4   드라마  [249, 242, 234]"
      ]
     },
     "execution_count": 21,
     "metadata": {},
     "output_type": "execute_result"
    }
   ],
   "source": [
    "genre_color=imgfile_df[[\"genre2\",\"main_color\"]]\n",
    "\n",
    "#initialize\n",
    "genre_colors=pd.DataFrame(columns=[\"genre\",\"main_color\"])\n",
    "#0,1,2\n",
    "for clno in range(0,color_cluno):\n",
    "    genre_colors=genre_colors.append(pd.DataFrame(data={\"genre\":genre_color[\"genre2\"],\n",
    "                   \"main_color\":genre_color[\"main_color\"].str[clno]})\n",
    "      )\n",
    "\n",
    "#valid value+prep\n",
    "genre_colors=genre_colors[genre_colors[\"genre\"].str.len()>0]\n",
    "genre_colors=genre_colors.reset_index(drop=True)\n",
    "genre_colors[\"genre\"]=genre_colors[\"genre\"].str.strip()\n",
    "\n",
    "genre_colors.head()"
   ]
  },
  {
   "cell_type": "markdown",
   "metadata": {},
   "source": [
    "\n",
    "\n",
    "double clustering from clustered colors of each genre"
   ]
  },
  {
   "cell_type": "code",
   "execution_count": 22,
   "metadata": {},
   "outputs": [],
   "source": [
    "outcol=[\"genre_name\",\"main_color\"]\n",
    "outdf=pd.DataFrame(columns=outcol)\n",
    "\n",
    "for genname in genre_colors[\"genre\"].drop_duplicates():  \n",
    "    ingenre_colors=genre_colors[genre_colors[\"genre\"]==genname][\"main_color\"].reset_index(\n",
    "        drop=True)\n",
    "    \n",
    "    color_mat=[]\n",
    "    \n",
    "    for ele in ingenre_colors:  \n",
    "        try: \n",
    "            color_mat.append([ele[0],ele[1],ele[2]])\n",
    "        except: \n",
    "            continue\n",
    "\n",
    "    kmeans_obj=main_cluster(color_mat, 6)\n",
    "     \n",
    "    mean_colors=kmeans_obj.cluster_centers_.astype(int)\n",
    "    \n",
    "    genre_color_df=pd.DataFrame(data={\"main_color\":mean_colors.tolist()})\n",
    "    genre_color_df[\"genre_name\"]=genname\n",
    "    \n",
    "    outdf=outdf.append(genre_color_df[outcol])\n",
    "    \n",
    "outdf=outdf.reset_index(drop=True)"
   ]
  },
  {
   "cell_type": "markdown",
   "metadata": {},
   "source": [
    "\n",
    "\n",
    "print genre's clustered color"
   ]
  },
  {
   "cell_type": "code",
   "execution_count": 23,
   "metadata": {},
   "outputs": [
    {
     "name": "stdout",
     "output_type": "stream",
     "text": [
      "\u001b[38;2;46;165;213m판타지■\u001b[0m\n",
      "\u001b[38;2;37;26;32m판타지■\u001b[0m\n",
      "\u001b[38;2;229;216;210m판타지■\u001b[0m\n",
      "\u001b[38;2;89;61;71m판타지■\u001b[0m\n",
      "\u001b[38;2;153;124;141m판타지■\u001b[0m\n",
      "\u001b[38;2;211;113;68m판타지■\u001b[0m\n",
      "============\n",
      "\u001b[38;2;226;216;209m스릴러■\u001b[0m\n",
      "\u001b[38;2;175;93;57m스릴러■\u001b[0m\n",
      "\u001b[38;2;30;21;23m스릴러■\u001b[0m\n",
      "\u001b[38;2;67;177;229m스릴러■\u001b[0m\n",
      "\u001b[38;2;145;132;133m스릴러■\u001b[0m\n",
      "\u001b[38;2;72;58;79m스릴러■\u001b[0m\n",
      "============\n",
      "\u001b[38;2;109;81;80m스포츠■\u001b[0m\n",
      "\u001b[38;2;233;213;201m스포츠■\u001b[0m\n",
      "\u001b[38;2;171;146;150m스포츠■\u001b[0m\n",
      "\u001b[38;2;45;22;25m스포츠■\u001b[0m\n",
      "\u001b[38;2;55;138;243m스포츠■\u001b[0m\n",
      "\u001b[38;2;251;17;0m스포츠■\u001b[0m\n",
      "============\n",
      "\u001b[38;2;238;224;215m드라마■\u001b[0m\n",
      "\u001b[38;2;141;111;104m드라마■\u001b[0m\n",
      "\u001b[38;2;53;41;43m드라마■\u001b[0m\n",
      "\u001b[38;2;143;157;168m드라마■\u001b[0m\n",
      "\u001b[38;2;186;20;16m드라마■\u001b[0m\n",
      "\u001b[38;2;224;183;129m드라마■\u001b[0m\n",
      "============\n",
      "\u001b[38;2;222;182;143m로맨스■\u001b[0m\n",
      "\u001b[38;2;51;39;42m로맨스■\u001b[0m\n",
      "\u001b[38;2;105;80;81m로맨스■\u001b[0m\n",
      "\u001b[38;2;240;225;218m로맨스■\u001b[0m\n",
      "\u001b[38;2;178;119;122m로맨스■\u001b[0m\n",
      "\u001b[38;2;136;180;196m로맨스■\u001b[0m\n",
      "============\n",
      "\u001b[38;2;170;42;25m액션■\u001b[0m\n",
      "\u001b[38;2;193;160;137m액션■\u001b[0m\n",
      "\u001b[38;2;38;28;33m액션■\u001b[0m\n",
      "\u001b[38;2;119;101;108m액션■\u001b[0m\n",
      "\u001b[38;2;232;219;207m액션■\u001b[0m\n",
      "\u001b[38;2;25;122;211m액션■\u001b[0m\n",
      "============\n",
      "\u001b[38;2;105;80;94m일상■\u001b[0m\n",
      "\u001b[38;2;232;223;219m일상■\u001b[0m\n",
      "\u001b[38;2;249;236;1m일상■\u001b[0m\n",
      "\u001b[38;2;142;170;205m일상■\u001b[0m\n",
      "\u001b[38;2;41;34;49m일상■\u001b[0m\n",
      "\u001b[38;2;252;58;121m일상■\u001b[0m\n",
      "============\n",
      "\u001b[38;2;16;13;12m시대극■\u001b[0m\n",
      "\u001b[38;2;211;186;157m시대극■\u001b[0m\n",
      "\u001b[38;2;151;143;118m시대극■\u001b[0m\n",
      "\u001b[38;2;222;214;212m시대극■\u001b[0m\n",
      "\u001b[38;2;112;101;95m시대극■\u001b[0m\n",
      "\u001b[38;2;54;45;43m시대극■\u001b[0m\n",
      "============\n",
      "\u001b[38;2;61;46;53m개그■\u001b[0m\n",
      "\u001b[38;2;229;206;204m개그■\u001b[0m\n",
      "\u001b[38;2;244;159;88m개그■\u001b[0m\n",
      "\u001b[38;2;148;153;137m개그■\u001b[0m\n",
      "\u001b[38;2;8;217;247m개그■\u001b[0m\n",
      "\u001b[38;2;181;10;2m개그■\u001b[0m\n",
      "============\n",
      "\u001b[38;2;182;156;134m감성■\u001b[0m\n",
      "\u001b[38;2;55;49;54m감성■\u001b[0m\n",
      "\u001b[38;2;236;209;212m감성■\u001b[0m\n",
      "\u001b[38;2;148;128;145m감성■\u001b[0m\n",
      "\u001b[38;2;85;78;86m감성■\u001b[0m\n",
      "\u001b[38;2;225;236;231m감성■\u001b[0m\n"
     ]
    }
   ],
   "source": [
    "\n",
    "for mcind,mc in enumerate(outdf[\"main_color\"]):\n",
    "    \n",
    "    prt_genrename=outdf[\"genre_name\"][mcind]\n",
    "    rgbformat='{0};{1};{2}'.format(mc[0],mc[1],mc[2])\n",
    "    print('\\033[38;2;'+rgbformat+'m' +prt_genrename+ '■\\033[0m')\n",
    "    \n",
    "    try:\n",
    "        if prt_genrename!=outdf[\"genre_name\"][mcind+1]:\n",
    "            print(\"============\")\n",
    "    except:\n",
    "        continue"
   ]
  },
  {
   "cell_type": "code",
   "execution_count": null,
   "metadata": {},
   "outputs": [],
   "source": []
  }
 ],
 "metadata": {
  "kernelspec": {
   "display_name": "Python 3",
   "language": "python",
   "name": "python3"
  },
  "language_info": {
   "codemirror_mode": {
    "name": "ipython",
    "version": 3
   },
   "file_extension": ".py",
   "mimetype": "text/x-python",
   "name": "python",
   "nbconvert_exporter": "python",
   "pygments_lexer": "ipython3",
   "version": "3.7.4"
  }
 },
 "nbformat": 4,
 "nbformat_minor": 2
}
